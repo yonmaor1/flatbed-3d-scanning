{
 "cells": [
  {
   "cell_type": "code",
   "execution_count": null,
   "metadata": {},
   "outputs": [],
   "source": [
    "import serial\n",
    "import time\n",
    "\n",
    "esp = serial.Serial(port='COM3', baudrate=9600, timeout=0.1)\n",
    "\n",
    "def write_read(x):\n",
    "    esp.write(bytes(x, 'utf-8'))\n",
    "    time.sleep(0.05)\n",
    "    data = esp.readline()\n",
    "    return data"
   ]
  },
  {
   "cell_type": "code",
   "execution_count": 4,
   "metadata": {},
   "outputs": [
    {
     "name": "stdout",
     "output_type": "stream",
     "text": [
      "b'K\\xa5\\xa3\\xd7\\x1c\\xdc\\x04L\\x18\\x14B\\x87\\xd5\\xc6\\xcf`)\\x94au!\\xceL!\\xc2c@\\xa2Stepper test!\\r\\n'\n",
      "b'Motor Shield found.\\r\\n'\n",
      "b'Turn 90.00 degrees\\r\\n'\n",
      "b'Waiting...\\r\\n'\n",
      "b'Turn 72.00 degrees\\r\\n'\n",
      "b'Waiting...\\r\\n'\n",
      "b'Turn 72.00 degrees\\r\\n'\n",
      "b'Waiting...\\r\\n'\n",
      "b'Turn 90.00 degrees\\r\\n'\n"
     ]
    }
   ],
   "source": [
    "while True: \n",
    "    num = input(\"Enter a number: \")\n",
    "    value = write_read(num)\n",
    "    print(value)"
   ]
  }
 ],
 "metadata": {
  "kernelspec": {
   "display_name": "Python 3",
   "language": "python",
   "name": "python3"
  },
  "language_info": {
   "codemirror_mode": {
    "name": "ipython",
    "version": 3
   },
   "file_extension": ".py",
   "mimetype": "text/x-python",
   "name": "python",
   "nbconvert_exporter": "python",
   "pygments_lexer": "ipython3",
   "version": "3.10.10"
  }
 },
 "nbformat": 4,
 "nbformat_minor": 2
}
